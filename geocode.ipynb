{
 "cells": [
  {
   "cell_type": "code",
   "execution_count": 1,
   "id": "unsigned-frame",
   "metadata": {},
   "outputs": [],
   "source": [
    "import googlemaps\n",
    "import pandas as pd\n",
    "import re\n",
    "import numpy as np"
   ]
  },
  {
   "cell_type": "code",
   "execution_count": 4,
   "id": "massive-admission",
   "metadata": {},
   "outputs": [],
   "source": [
    "import os\n",
    "gmaps = googlemaps.Client(key=os.environ.get('GOOGLEMAPS_API_KEY'))"
   ]
  },
  {
   "cell_type": "code",
   "execution_count": 5,
   "id": "equivalent-usage",
   "metadata": {},
   "outputs": [
    {
     "data": {
      "text/html": [
       "<div>\n",
       "<style scoped>\n",
       "    .dataframe tbody tr th:only-of-type {\n",
       "        vertical-align: middle;\n",
       "    }\n",
       "\n",
       "    .dataframe tbody tr th {\n",
       "        vertical-align: top;\n",
       "    }\n",
       "\n",
       "    .dataframe thead th {\n",
       "        text-align: right;\n",
       "    }\n",
       "</style>\n",
       "<table border=\"1\" class=\"dataframe\">\n",
       "  <thead>\n",
       "    <tr style=\"text-align: right;\">\n",
       "      <th></th>\n",
       "      <th>Geography</th>\n",
       "      <th>2001</th>\n",
       "      <th>2002</th>\n",
       "      <th>2003</th>\n",
       "      <th>2004</th>\n",
       "      <th>2005</th>\n",
       "      <th>2006</th>\n",
       "      <th>2007</th>\n",
       "      <th>2008</th>\n",
       "      <th>2009</th>\n",
       "      <th>...</th>\n",
       "      <th>2011</th>\n",
       "      <th>2012</th>\n",
       "      <th>2013</th>\n",
       "      <th>2014</th>\n",
       "      <th>2015</th>\n",
       "      <th>2016</th>\n",
       "      <th>2017</th>\n",
       "      <th>2018</th>\n",
       "      <th>2019</th>\n",
       "      <th>2020</th>\n",
       "    </tr>\n",
       "  </thead>\n",
       "  <tbody>\n",
       "    <tr>\n",
       "      <th>0</th>\n",
       "      <td>All census metropolitan areas and census agglo...</td>\n",
       "      <td>25121190</td>\n",
       "      <td>25464948</td>\n",
       "      <td>25745344</td>\n",
       "      <td>26035077</td>\n",
       "      <td>26332444</td>\n",
       "      <td>26666157</td>\n",
       "      <td>26972594</td>\n",
       "      <td>27313943</td>\n",
       "      <td>27682785</td>\n",
       "      <td>...</td>\n",
       "      <td>28365332</td>\n",
       "      <td>28733706</td>\n",
       "      <td>29086709</td>\n",
       "      <td>29425513</td>\n",
       "      <td>29680350</td>\n",
       "      <td>30059970</td>\n",
       "      <td>30482398</td>\n",
       "      <td>30979142</td>\n",
       "      <td>31485410</td>\n",
       "      <td>31869048</td>\n",
       "    </tr>\n",
       "    <tr>\n",
       "      <th>1</th>\n",
       "      <td>All census metropolitan areas, Canada</td>\n",
       "      <td>21174905</td>\n",
       "      <td>21500787</td>\n",
       "      <td>21753380</td>\n",
       "      <td>22011568</td>\n",
       "      <td>22277962</td>\n",
       "      <td>22584463</td>\n",
       "      <td>22857870</td>\n",
       "      <td>23163156</td>\n",
       "      <td>23502329</td>\n",
       "      <td>...</td>\n",
       "      <td>24124407</td>\n",
       "      <td>24454805</td>\n",
       "      <td>24776585</td>\n",
       "      <td>25084157</td>\n",
       "      <td>25315512</td>\n",
       "      <td>25660482</td>\n",
       "      <td>26044849</td>\n",
       "      <td>26495277</td>\n",
       "      <td>26959203</td>\n",
       "      <td>27306305</td>\n",
       "    </tr>\n",
       "    <tr>\n",
       "      <th>2</th>\n",
       "      <td>St. John's (CMA), Newfoundland and Labrador</td>\n",
       "      <td>176468</td>\n",
       "      <td>177626</td>\n",
       "      <td>179026</td>\n",
       "      <td>181059</td>\n",
       "      <td>181720</td>\n",
       "      <td>183847</td>\n",
       "      <td>186173</td>\n",
       "      <td>189575</td>\n",
       "      <td>193867</td>\n",
       "      <td>...</td>\n",
       "      <td>202376</td>\n",
       "      <td>204537</td>\n",
       "      <td>206257</td>\n",
       "      <td>208228</td>\n",
       "      <td>209191</td>\n",
       "      <td>211003</td>\n",
       "      <td>212144</td>\n",
       "      <td>212344</td>\n",
       "      <td>213204</td>\n",
       "      <td>214014</td>\n",
       "    </tr>\n",
       "    <tr>\n",
       "      <th>3</th>\n",
       "      <td>Halifax (CMA), Nova Scotia</td>\n",
       "      <td>369252</td>\n",
       "      <td>374445</td>\n",
       "      <td>378091</td>\n",
       "      <td>380752</td>\n",
       "      <td>381940</td>\n",
       "      <td>384658</td>\n",
       "      <td>386402</td>\n",
       "      <td>389919</td>\n",
       "      <td>393688</td>\n",
       "      <td>...</td>\n",
       "      <td>402074</td>\n",
       "      <td>404376</td>\n",
       "      <td>405598</td>\n",
       "      <td>407061</td>\n",
       "      <td>408017</td>\n",
       "      <td>414015</td>\n",
       "      <td>421713</td>\n",
       "      <td>429895</td>\n",
       "      <td>439529</td>\n",
       "      <td>448544</td>\n",
       "    </tr>\n",
       "    <tr>\n",
       "      <th>4</th>\n",
       "      <td>Moncton (CMA), New Brunswick</td>\n",
       "      <td>123093</td>\n",
       "      <td>124560</td>\n",
       "      <td>126103</td>\n",
       "      <td>127702</td>\n",
       "      <td>128823</td>\n",
       "      <td>130507</td>\n",
       "      <td>132060</td>\n",
       "      <td>133860</td>\n",
       "      <td>136211</td>\n",
       "      <td>...</td>\n",
       "      <td>140698</td>\n",
       "      <td>142871</td>\n",
       "      <td>144217</td>\n",
       "      <td>145708</td>\n",
       "      <td>146367</td>\n",
       "      <td>148467</td>\n",
       "      <td>150438</td>\n",
       "      <td>152560</td>\n",
       "      <td>155870</td>\n",
       "      <td>158695</td>\n",
       "    </tr>\n",
       "  </tbody>\n",
       "</table>\n",
       "<p>5 rows × 21 columns</p>\n",
       "</div>"
      ],
      "text/plain": [
       "                                           Geography      2001      2002  \\\n",
       "0  All census metropolitan areas and census agglo...  25121190  25464948   \n",
       "1              All census metropolitan areas, Canada  21174905  21500787   \n",
       "2        St. John's (CMA), Newfoundland and Labrador    176468    177626   \n",
       "3                         Halifax (CMA), Nova Scotia    369252    374445   \n",
       "4                       Moncton (CMA), New Brunswick    123093    124560   \n",
       "\n",
       "       2003      2004      2005      2006      2007      2008      2009  ...  \\\n",
       "0  25745344  26035077  26332444  26666157  26972594  27313943  27682785  ...   \n",
       "1  21753380  22011568  22277962  22584463  22857870  23163156  23502329  ...   \n",
       "2    179026    181059    181720    183847    186173    189575    193867  ...   \n",
       "3    378091    380752    381940    384658    386402    389919    393688  ...   \n",
       "4    126103    127702    128823    130507    132060    133860    136211  ...   \n",
       "\n",
       "       2011      2012      2013      2014      2015      2016      2017  \\\n",
       "0  28365332  28733706  29086709  29425513  29680350  30059970  30482398   \n",
       "1  24124407  24454805  24776585  25084157  25315512  25660482  26044849   \n",
       "2    202376    204537    206257    208228    209191    211003    212144   \n",
       "3    402074    404376    405598    407061    408017    414015    421713   \n",
       "4    140698    142871    144217    145708    146367    148467    150438   \n",
       "\n",
       "       2018      2019      2020  \n",
       "0  30979142  31485410  31869048  \n",
       "1  26495277  26959203  27306305  \n",
       "2    212344    213204    214014  \n",
       "3    429895    439529    448544  \n",
       "4    152560    155870    158695  \n",
       "\n",
       "[5 rows x 21 columns]"
      ]
     },
     "execution_count": 5,
     "metadata": {},
     "output_type": "execute_result"
    }
   ],
   "source": [
    "dtype = {year: np.int64 for year in range(2001,2020)}\n",
    "df = pd.read_csv('data/census/1710013501-eng.csv', thousands=\",\", dtype=dtype)\n",
    "df.head()"
   ]
  },
  {
   "cell_type": "code",
   "execution_count": 6,
   "id": "aggregate-frequency",
   "metadata": {},
   "outputs": [
    {
     "name": "stderr",
     "output_type": "stream",
     "text": [
      "c:\\users\\tom\\.virtualenvs\\canada-population-map-n48wtm4g\\lib\\site-packages\\pandas\\core\\strings\\accessor.py:101: UserWarning: This pattern has match groups. To actually get the groups, use str.extract.\n",
      "  return func(self, *args, **kwargs)\n"
     ]
    }
   ],
   "source": [
    "# remove total population counts and population counts of \"rural area\"\n",
    "not_cities = df[df[\"Geography\"].str.contains(r\"[Aa]rea(s?) outside\", regex=True) | df[\"Geography\"].str.contains(r\"metropolitan\", regex=True)]\n",
    "cities = df.drop(index=not_cities.index)"
   ]
  },
  {
   "cell_type": "code",
   "execution_count": 7,
   "id": "approximate-coordinate",
   "metadata": {},
   "outputs": [],
   "source": [
    "# remove \"(CA)\" and \"(CMA)\" for city name\n",
    "cities['city_name'] = cities['Geography'].map(lambda x: re.sub(r' \\(CM?A\\)', '', x))"
   ]
  },
  {
   "cell_type": "code",
   "execution_count": 8,
   "id": "compressed-horizontal",
   "metadata": {},
   "outputs": [],
   "source": [
    "def geocode(city):\n",
    "    ''' Calls googlemaps geocode API using the formatted city_name row, \n",
    "        returns lat or lng from API call, as specified by direction'''\n",
    "    results = gmaps.geocode(city)\n",
    "    if results:\n",
    "        return (results[0]['geometry']['location']['lat'], results[0]['geometry']['location']['lng'])\n",
    "    else:\n",
    "        print('No results for city: ', city)\n",
    "        return (None, None)\n",
    "    \n",
    "cities['lat'], cities['lon'] = zip(*cities['city_name'].map(lambda x: geocode(x)))\n",
    "\n",
    "# drop the two cities above\n",
    "cities.drop(inplace=True, index=[54, 79])"
   ]
  },
  {
   "cell_type": "code",
   "execution_count": 11,
   "id": "proud-smith",
   "metadata": {},
   "outputs": [],
   "source": [
    "# Find the year-over-year difference between populations\n",
    "\n",
    "for year in range(2002, 2020): \n",
    "    cities['diff_' + str(year)] = cities[str(year)] - cities[str(year-1)] "
   ]
  },
  {
   "cell_type": "code",
   "execution_count": 55,
   "id": "alien-cream",
   "metadata": {},
   "outputs": [],
   "source": [
    "# Find the biggest increase and decrease and create a new column scaled between max ranges of -1 and 1\n",
    "\n",
    "max_diff = cities.filter(regex='diff_').max(axis=1).max()\n",
    "min_diff = cities.filter(regex='diff_').min(axis=1).min()\n",
    "max_change = max(abs(min_diff), max_diff)\n",
    "for year in range(2002, 2020): \n",
    "    cities['relative_diff_' + str(year)] = cities[\"diff_\"+ str(year)] / max_change"
   ]
  },
  {
   "cell_type": "code",
   "execution_count": 79,
   "id": "broadband-giant",
   "metadata": {},
   "outputs": [],
   "source": [
    "# Create a new column that chooses a colour on a spectrum between red->yellow->green based on the relative difference in population\n",
    "\n",
    "from colour import Color\n",
    "color_steps = 100\n",
    "red = Color(\"red\")\n",
    "light_red = Color(rgb=(255/255,204/255,203/255))\n",
    "light_green = Color(rgb=(144/255, 238/255, 144/255))\n",
    "green = Color(\"green\")\n",
    "neg_colors = list(red.range_to(light_red,color_steps))\n",
    "pos_colors = list(light_green.range_to(green, color_steps))\n",
    "\n",
    "def get_color_spectrum(row, year, colors):\n",
    "    x = row['relative_diff_' + str(year)]\n",
    "    if x>=0:\n",
    "        color_range = np.linspace(0,max_diff/max_change,color_steps)\n",
    "        idx = list(map(lambda i: i >= x, color_range)).index(True)\n",
    "        color = [int(c*255) for c in pos_colors[idx].rgb]\n",
    "    else:\n",
    "        color_range = np.linspace(min_diff/max_change,0,color_steps)\n",
    "        idx = list(map(lambda i: i >= x, color_range)).index(True)\n",
    "        color = [int(c*255) for c in neg_colors[idx].rgb]\n",
    "        \n",
    "    return color\n",
    "    \n",
    "for year in range(2002, 2020):\n",
    "    cities['color_spec_' + str(year)] = cities.apply(get_color_spectrum, args=(year,colors), axis=1)"
   ]
  },
  {
   "cell_type": "code",
   "execution_count": 80,
   "id": "honey-reviewer",
   "metadata": {},
   "outputs": [
    {
     "data": {
      "text/plain": [
       "0      [141, 237, 141]\n",
       "1      [131, 237, 131]\n",
       "2      [139, 237, 139]\n",
       "3      [254, 187, 186]\n",
       "4      [254, 126, 125]\n",
       "            ...       \n",
       "154    [254, 126, 125]\n",
       "155    [255, 203, 202]\n",
       "156    [141, 237, 141]\n",
       "157    [141, 237, 141]\n",
       "158    [141, 237, 141]\n",
       "Name: color_spec_2002, Length: 159, dtype: object"
      ]
     },
     "execution_count": 80,
     "metadata": {},
     "output_type": "execute_result"
    }
   ],
   "source": [
    "cities['color_spec_2002']"
   ]
  },
  {
   "cell_type": "code",
   "execution_count": 81,
   "id": "cardiovascular-maker",
   "metadata": {},
   "outputs": [],
   "source": [
    "cities.to_csv('data/cities.csv')"
   ]
  },
  {
   "cell_type": "code",
   "execution_count": 2,
   "id": "falling-guide",
   "metadata": {},
   "outputs": [],
   "source": [
    "#from ast import literal_eval\n",
    "def load_data():\n",
    "    dtype = {\"diff_\" + str(year): np.int64 for year in range(2001,2020)}\n",
    "    dtype['lat'] = np.float64\n",
    "    dtype['lon'] = np.float64\n",
    "    data =  pd.read_csv('data/cities.csv', dtype=dtype)\n",
    "    for year in range(2002,2020):\n",
    "        #data['color_'+str(year)] = data['color_'+str(year)].apply(literal_eval)\n",
    "        data['abs_'+str(year)] = data['diff_'+str(year)].abs().apply(np.log2)\n",
    "    return data\n",
    "\n",
    "cities = load_data()"
   ]
  },
  {
   "cell_type": "code",
   "execution_count": 4,
   "id": "minute-rebecca",
   "metadata": {},
   "outputs": [
    {
     "data": {
      "text/plain": [
       "10"
      ]
     },
     "execution_count": 4,
     "metadata": {},
     "output_type": "execute_result"
    }
   ],
   "source": [
    "from colour import Color\n",
    "red = Color(\"red\")\n",
    "colors = list(red.range_to(Color(\"green\"),20))\n",
    "    \n",
    "a = -0.5\n",
    "b = 0\n",
    "c = 0.5\n",
    "d = 1\n",
    "\n",
    "import numpy as np\n",
    "\n",
    "index\n",
    "\n"
   ]
  },
  {
   "cell_type": "code",
   "execution_count": 19,
   "id": "boolean-retailer",
   "metadata": {},
   "outputs": [
    {
     "data": {
      "text/plain": [
       "[255, 0, 0]"
      ]
     },
     "execution_count": 19,
     "metadata": {},
     "output_type": "execute_result"
    }
   ],
   "source": [
    "[int(c*255) for c in red.rgb]"
   ]
  },
  {
   "cell_type": "code",
   "execution_count": null,
   "id": "helpful-length",
   "metadata": {},
   "outputs": [],
   "source": []
  }
 ],
 "metadata": {
  "kernelspec": {
   "display_name": "canada-population-maps",
   "language": "python",
   "name": "canada-population-maps"
  },
  "language_info": {
   "codemirror_mode": {
    "name": "ipython",
    "version": 3
   },
   "file_extension": ".py",
   "mimetype": "text/x-python",
   "name": "python",
   "nbconvert_exporter": "python",
   "pygments_lexer": "ipython3",
   "version": "3.7.7"
  }
 },
 "nbformat": 4,
 "nbformat_minor": 5
}
